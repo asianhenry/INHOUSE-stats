{
 "cells": [
  {
   "cell_type": "code",
   "execution_count": 40,
   "metadata": {},
   "outputs": [],
   "source": [
    "import pandas as pd\n",
    "import numpy as np\n",
    "import statistics"
   ]
  },
  {
   "cell_type": "code",
   "execution_count": 2,
   "metadata": {},
   "outputs": [],
   "source": [
    "player_data = pd.read_csv('inhouse.csv')"
   ]
  },
  {
   "cell_type": "code",
   "execution_count": 3,
   "metadata": {},
   "outputs": [
    {
     "data": {
      "text/html": [
       "<div>\n",
       "<style scoped>\n",
       "    .dataframe tbody tr th:only-of-type {\n",
       "        vertical-align: middle;\n",
       "    }\n",
       "\n",
       "    .dataframe tbody tr th {\n",
       "        vertical-align: top;\n",
       "    }\n",
       "\n",
       "    .dataframe thead th {\n",
       "        text-align: right;\n",
       "    }\n",
       "</style>\n",
       "<table border=\"1\" class=\"dataframe\">\n",
       "  <thead>\n",
       "    <tr style=\"text-align: right;\">\n",
       "      <th></th>\n",
       "      <th>player</th>\n",
       "      <th>game_id</th>\n",
       "      <th>w/l</th>\n",
       "      <th>role</th>\n",
       "      <th>champ</th>\n",
       "      <th>k</th>\n",
       "      <th>d</th>\n",
       "      <th>a</th>\n",
       "      <th>cs</th>\n",
       "      <th>cs/min</th>\n",
       "      <th>dmg</th>\n",
       "      <th>dmg_share</th>\n",
       "      <th>first_blood</th>\n",
       "    </tr>\n",
       "  </thead>\n",
       "  <tbody>\n",
       "    <tr>\n",
       "      <td>0</td>\n",
       "      <td>asianhenry</td>\n",
       "      <td>1</td>\n",
       "      <td>w</td>\n",
       "      <td>adc</td>\n",
       "      <td>Ezreal</td>\n",
       "      <td>9</td>\n",
       "      <td>6</td>\n",
       "      <td>14</td>\n",
       "      <td>213</td>\n",
       "      <td>5.59</td>\n",
       "      <td>33340</td>\n",
       "      <td>28.09</td>\n",
       "      <td>n</td>\n",
       "    </tr>\n",
       "    <tr>\n",
       "      <td>1</td>\n",
       "      <td>Knacked</td>\n",
       "      <td>1</td>\n",
       "      <td>w</td>\n",
       "      <td>supp</td>\n",
       "      <td>Janna</td>\n",
       "      <td>4</td>\n",
       "      <td>3</td>\n",
       "      <td>27</td>\n",
       "      <td>32</td>\n",
       "      <td>0.84</td>\n",
       "      <td>6487</td>\n",
       "      <td>5.47</td>\n",
       "      <td>n</td>\n",
       "    </tr>\n",
       "    <tr>\n",
       "      <td>2</td>\n",
       "      <td>TheRealShimmy</td>\n",
       "      <td>1</td>\n",
       "      <td>w</td>\n",
       "      <td>jg</td>\n",
       "      <td>Sejuani</td>\n",
       "      <td>13</td>\n",
       "      <td>8</td>\n",
       "      <td>18</td>\n",
       "      <td>228</td>\n",
       "      <td>5.98</td>\n",
       "      <td>24450</td>\n",
       "      <td>20.60</td>\n",
       "      <td>n</td>\n",
       "    </tr>\n",
       "    <tr>\n",
       "      <td>3</td>\n",
       "      <td>GF WONT SUPPORT</td>\n",
       "      <td>1</td>\n",
       "      <td>w</td>\n",
       "      <td>mid</td>\n",
       "      <td>Katarina</td>\n",
       "      <td>11</td>\n",
       "      <td>9</td>\n",
       "      <td>19</td>\n",
       "      <td>209</td>\n",
       "      <td>5.49</td>\n",
       "      <td>26592</td>\n",
       "      <td>22.41</td>\n",
       "      <td>n</td>\n",
       "    </tr>\n",
       "    <tr>\n",
       "      <td>4</td>\n",
       "      <td>Xe0</td>\n",
       "      <td>1</td>\n",
       "      <td>w</td>\n",
       "      <td>top</td>\n",
       "      <td>Kennen</td>\n",
       "      <td>5</td>\n",
       "      <td>12</td>\n",
       "      <td>21</td>\n",
       "      <td>196</td>\n",
       "      <td>5.14</td>\n",
       "      <td>27813</td>\n",
       "      <td>23.43</td>\n",
       "      <td>n</td>\n",
       "    </tr>\n",
       "  </tbody>\n",
       "</table>\n",
       "</div>"
      ],
      "text/plain": [
       "            player  game_id w/l  role     champ   k   d   a   cs  cs/min  \\\n",
       "0       asianhenry        1   w   adc    Ezreal   9   6  14  213    5.59   \n",
       "1          Knacked        1   w  supp     Janna   4   3  27   32    0.84   \n",
       "2    TheRealShimmy        1   w    jg   Sejuani  13   8  18  228    5.98   \n",
       "3  GF WONT SUPPORT        1   w   mid  Katarina  11   9  19  209    5.49   \n",
       "4              Xe0        1   w   top    Kennen   5  12  21  196    5.14   \n",
       "\n",
       "     dmg  dmg_share first_blood  \n",
       "0  33340      28.09           n  \n",
       "1   6487       5.47           n  \n",
       "2  24450      20.60           n  \n",
       "3  26592      22.41           n  \n",
       "4  27813      23.43           n  "
      ]
     },
     "execution_count": 3,
     "metadata": {},
     "output_type": "execute_result"
    }
   ],
   "source": [
    "player_data.head()"
   ]
  },
  {
   "cell_type": "code",
   "execution_count": 4,
   "metadata": {},
   "outputs": [
    {
     "data": {
      "text/plain": [
       "['asianhenry',\n",
       " 'Knacked',\n",
       " 'TheRealShimmy',\n",
       " 'GF WONT SUPPORT',\n",
       " 'Xe0',\n",
       " 'Ass2Malph',\n",
       " 'GobStopper',\n",
       " 'Jjjajangmyeon',\n",
       " 'Bevo18',\n",
       " 'Taxmo',\n",
       " 'Ohoii',\n",
       " 'itssyumm',\n",
       " 'WhoopScoopPoop',\n",
       " 'Abusive Teemo',\n",
       " 'CJ Effort',\n",
       " 'PurelyLucky',\n",
       " 'TisPerfect']"
      ]
     },
     "execution_count": 4,
     "metadata": {},
     "output_type": "execute_result"
    }
   ],
   "source": [
    "unique_players = list(player_data['player'].dropna().unique())\n",
    "unique_players"
   ]
  },
  {
   "cell_type": "code",
   "execution_count": 5,
   "metadata": {},
   "outputs": [
    {
     "data": {
      "text/plain": [
       "17"
      ]
     },
     "execution_count": 5,
     "metadata": {},
     "output_type": "execute_result"
    }
   ],
   "source": [
    "len(unique_players)"
   ]
  },
  {
   "cell_type": "code",
   "execution_count": 68,
   "metadata": {},
   "outputs": [
    {
     "name": "stdout",
     "output_type": "stream",
     "text": [
      "Search player username asianhenry\n"
     ]
    }
   ],
   "source": [
    "player_input = input(\"Search player username \")"
   ]
  },
  {
   "cell_type": "code",
   "execution_count": 69,
   "metadata": {},
   "outputs": [],
   "source": [
    "player_search =player_data[player_data['player'].str.lower()==player_input.lower()]"
   ]
  },
  {
   "cell_type": "code",
   "execution_count": 70,
   "metadata": {},
   "outputs": [],
   "source": [
    "#player_search = player_data.loc[(player_data['player'] == player_input.casefold()),:]"
   ]
  },
  {
   "cell_type": "code",
   "execution_count": 71,
   "metadata": {},
   "outputs": [],
   "source": [
    "player_search = player_search.reset_index(drop=True)"
   ]
  },
  {
   "cell_type": "code",
   "execution_count": 72,
   "metadata": {},
   "outputs": [
    {
     "data": {
      "text/html": [
       "<div>\n",
       "<style scoped>\n",
       "    .dataframe tbody tr th:only-of-type {\n",
       "        vertical-align: middle;\n",
       "    }\n",
       "\n",
       "    .dataframe tbody tr th {\n",
       "        vertical-align: top;\n",
       "    }\n",
       "\n",
       "    .dataframe thead th {\n",
       "        text-align: right;\n",
       "    }\n",
       "</style>\n",
       "<table border=\"1\" class=\"dataframe\">\n",
       "  <thead>\n",
       "    <tr style=\"text-align: right;\">\n",
       "      <th></th>\n",
       "      <th>player</th>\n",
       "      <th>game_id</th>\n",
       "      <th>w/l</th>\n",
       "      <th>role</th>\n",
       "      <th>champ</th>\n",
       "      <th>k</th>\n",
       "      <th>d</th>\n",
       "      <th>a</th>\n",
       "      <th>cs</th>\n",
       "      <th>cs/min</th>\n",
       "      <th>dmg</th>\n",
       "      <th>dmg_share</th>\n",
       "      <th>first_blood</th>\n",
       "    </tr>\n",
       "  </thead>\n",
       "  <tbody>\n",
       "    <tr>\n",
       "      <td>0</td>\n",
       "      <td>asianhenry</td>\n",
       "      <td>1</td>\n",
       "      <td>w</td>\n",
       "      <td>adc</td>\n",
       "      <td>Ezreal</td>\n",
       "      <td>9</td>\n",
       "      <td>6</td>\n",
       "      <td>14</td>\n",
       "      <td>213</td>\n",
       "      <td>5.59</td>\n",
       "      <td>33340</td>\n",
       "      <td>28.09</td>\n",
       "      <td>n</td>\n",
       "    </tr>\n",
       "    <tr>\n",
       "      <td>1</td>\n",
       "      <td>asianhenry</td>\n",
       "      <td>2</td>\n",
       "      <td>w</td>\n",
       "      <td>adc</td>\n",
       "      <td>Ezreal</td>\n",
       "      <td>6</td>\n",
       "      <td>2</td>\n",
       "      <td>5</td>\n",
       "      <td>189</td>\n",
       "      <td>6.78</td>\n",
       "      <td>14444</td>\n",
       "      <td>19.97</td>\n",
       "      <td>n</td>\n",
       "    </tr>\n",
       "    <tr>\n",
       "      <td>2</td>\n",
       "      <td>asianhenry</td>\n",
       "      <td>3</td>\n",
       "      <td>l</td>\n",
       "      <td>adc</td>\n",
       "      <td>Miss Fortune</td>\n",
       "      <td>9</td>\n",
       "      <td>5</td>\n",
       "      <td>6</td>\n",
       "      <td>257</td>\n",
       "      <td>7.15</td>\n",
       "      <td>33830</td>\n",
       "      <td>30.10</td>\n",
       "      <td>n</td>\n",
       "    </tr>\n",
       "    <tr>\n",
       "      <td>3</td>\n",
       "      <td>asianhenry</td>\n",
       "      <td>4</td>\n",
       "      <td>l</td>\n",
       "      <td>adc</td>\n",
       "      <td>Miss Fortune</td>\n",
       "      <td>1</td>\n",
       "      <td>6</td>\n",
       "      <td>5</td>\n",
       "      <td>197</td>\n",
       "      <td>7.19</td>\n",
       "      <td>12416</td>\n",
       "      <td>18.11</td>\n",
       "      <td>n</td>\n",
       "    </tr>\n",
       "    <tr>\n",
       "      <td>4</td>\n",
       "      <td>asianhenry</td>\n",
       "      <td>5</td>\n",
       "      <td>l</td>\n",
       "      <td>adc</td>\n",
       "      <td>Miss Fortune</td>\n",
       "      <td>1</td>\n",
       "      <td>6</td>\n",
       "      <td>8</td>\n",
       "      <td>206</td>\n",
       "      <td>6.19</td>\n",
       "      <td>19040</td>\n",
       "      <td>16.65</td>\n",
       "      <td>n</td>\n",
       "    </tr>\n",
       "    <tr>\n",
       "      <td>5</td>\n",
       "      <td>asianhenry</td>\n",
       "      <td>6</td>\n",
       "      <td>w</td>\n",
       "      <td>adc</td>\n",
       "      <td>Miss Fortune</td>\n",
       "      <td>13</td>\n",
       "      <td>2</td>\n",
       "      <td>5</td>\n",
       "      <td>219</td>\n",
       "      <td>6.62</td>\n",
       "      <td>13260</td>\n",
       "      <td>11.82</td>\n",
       "      <td>n</td>\n",
       "    </tr>\n",
       "  </tbody>\n",
       "</table>\n",
       "</div>"
      ],
      "text/plain": [
       "       player  game_id w/l role         champ   k  d   a   cs  cs/min    dmg  \\\n",
       "0  asianhenry        1   w  adc        Ezreal   9  6  14  213    5.59  33340   \n",
       "1  asianhenry        2   w  adc        Ezreal   6  2   5  189    6.78  14444   \n",
       "2  asianhenry        3   l  adc  Miss Fortune   9  5   6  257    7.15  33830   \n",
       "3  asianhenry        4   l  adc  Miss Fortune   1  6   5  197    7.19  12416   \n",
       "4  asianhenry        5   l  adc  Miss Fortune   1  6   8  206    6.19  19040   \n",
       "5  asianhenry        6   w  adc  Miss Fortune  13  2   5  219    6.62  13260   \n",
       "\n",
       "   dmg_share first_blood  \n",
       "0      28.09           n  \n",
       "1      19.97           n  \n",
       "2      30.10           n  \n",
       "3      18.11           n  \n",
       "4      16.65           n  \n",
       "5      11.82           n  "
      ]
     },
     "execution_count": 72,
     "metadata": {},
     "output_type": "execute_result"
    }
   ],
   "source": [
    "player_search"
   ]
  },
  {
   "cell_type": "code",
   "execution_count": 73,
   "metadata": {},
   "outputs": [],
   "source": [
    "wins = list(player_search['w/l']).count('w')\n",
    "losses = list(player_search['w/l']).count('l')\n",
    "win_pct = wins/(wins+losses)*100\n",
    "#print(wins)\n",
    "#print(losses)\n",
    "#print(win_pct)"
   ]
  },
  {
   "cell_type": "code",
   "execution_count": 74,
   "metadata": {},
   "outputs": [],
   "source": [
    "champs = list(player_search['champ'])\n",
    "#champs"
   ]
  },
  {
   "cell_type": "code",
   "execution_count": 75,
   "metadata": {},
   "outputs": [],
   "source": [
    "roles = list(player_search['role'])\n",
    "#roles"
   ]
  },
  {
   "cell_type": "code",
   "execution_count": 76,
   "metadata": {},
   "outputs": [],
   "source": [
    "total_kda = round((sum(player_search['k'])+sum(player_search['a']))/sum(player_search['d']),2)\n",
    "#total_kda"
   ]
  },
  {
   "cell_type": "code",
   "execution_count": 77,
   "metadata": {},
   "outputs": [],
   "source": [
    "first_bloods = list(player_search['first_blood']).count('y')\n",
    "#first_bloods"
   ]
  },
  {
   "cell_type": "code",
   "execution_count": 78,
   "metadata": {},
   "outputs": [
    {
     "data": {
      "text/html": [
       "<div>\n",
       "<style scoped>\n",
       "    .dataframe tbody tr th:only-of-type {\n",
       "        vertical-align: middle;\n",
       "    }\n",
       "\n",
       "    .dataframe tbody tr th {\n",
       "        vertical-align: top;\n",
       "    }\n",
       "\n",
       "    .dataframe thead th {\n",
       "        text-align: right;\n",
       "    }\n",
       "</style>\n",
       "<table border=\"1\" class=\"dataframe\">\n",
       "  <thead>\n",
       "    <tr style=\"text-align: right;\">\n",
       "      <th></th>\n",
       "      <th>player</th>\n",
       "      <th>game_id</th>\n",
       "      <th>w/l</th>\n",
       "      <th>role</th>\n",
       "      <th>champ</th>\n",
       "      <th>k</th>\n",
       "      <th>d</th>\n",
       "      <th>a</th>\n",
       "      <th>cs</th>\n",
       "      <th>cs/min</th>\n",
       "      <th>dmg</th>\n",
       "      <th>dmg_share</th>\n",
       "      <th>first_blood</th>\n",
       "    </tr>\n",
       "  </thead>\n",
       "  <tbody>\n",
       "    <tr>\n",
       "      <td>0</td>\n",
       "      <td>asianhenry</td>\n",
       "      <td>1</td>\n",
       "      <td>w</td>\n",
       "      <td>adc</td>\n",
       "      <td>Ezreal</td>\n",
       "      <td>9</td>\n",
       "      <td>6</td>\n",
       "      <td>14</td>\n",
       "      <td>213</td>\n",
       "      <td>5.59</td>\n",
       "      <td>33340</td>\n",
       "      <td>28.09</td>\n",
       "      <td>n</td>\n",
       "    </tr>\n",
       "    <tr>\n",
       "      <td>1</td>\n",
       "      <td>asianhenry</td>\n",
       "      <td>2</td>\n",
       "      <td>w</td>\n",
       "      <td>adc</td>\n",
       "      <td>Ezreal</td>\n",
       "      <td>6</td>\n",
       "      <td>2</td>\n",
       "      <td>5</td>\n",
       "      <td>189</td>\n",
       "      <td>6.78</td>\n",
       "      <td>14444</td>\n",
       "      <td>19.97</td>\n",
       "      <td>n</td>\n",
       "    </tr>\n",
       "    <tr>\n",
       "      <td>2</td>\n",
       "      <td>asianhenry</td>\n",
       "      <td>3</td>\n",
       "      <td>l</td>\n",
       "      <td>adc</td>\n",
       "      <td>Miss Fortune</td>\n",
       "      <td>9</td>\n",
       "      <td>5</td>\n",
       "      <td>6</td>\n",
       "      <td>257</td>\n",
       "      <td>7.15</td>\n",
       "      <td>33830</td>\n",
       "      <td>30.10</td>\n",
       "      <td>n</td>\n",
       "    </tr>\n",
       "    <tr>\n",
       "      <td>3</td>\n",
       "      <td>asianhenry</td>\n",
       "      <td>4</td>\n",
       "      <td>l</td>\n",
       "      <td>adc</td>\n",
       "      <td>Miss Fortune</td>\n",
       "      <td>1</td>\n",
       "      <td>6</td>\n",
       "      <td>5</td>\n",
       "      <td>197</td>\n",
       "      <td>7.19</td>\n",
       "      <td>12416</td>\n",
       "      <td>18.11</td>\n",
       "      <td>n</td>\n",
       "    </tr>\n",
       "    <tr>\n",
       "      <td>4</td>\n",
       "      <td>asianhenry</td>\n",
       "      <td>5</td>\n",
       "      <td>l</td>\n",
       "      <td>adc</td>\n",
       "      <td>Miss Fortune</td>\n",
       "      <td>1</td>\n",
       "      <td>6</td>\n",
       "      <td>8</td>\n",
       "      <td>206</td>\n",
       "      <td>6.19</td>\n",
       "      <td>19040</td>\n",
       "      <td>16.65</td>\n",
       "      <td>n</td>\n",
       "    </tr>\n",
       "    <tr>\n",
       "      <td>5</td>\n",
       "      <td>asianhenry</td>\n",
       "      <td>6</td>\n",
       "      <td>w</td>\n",
       "      <td>adc</td>\n",
       "      <td>Miss Fortune</td>\n",
       "      <td>13</td>\n",
       "      <td>2</td>\n",
       "      <td>5</td>\n",
       "      <td>219</td>\n",
       "      <td>6.62</td>\n",
       "      <td>13260</td>\n",
       "      <td>11.82</td>\n",
       "      <td>n</td>\n",
       "    </tr>\n",
       "  </tbody>\n",
       "</table>\n",
       "</div>"
      ],
      "text/plain": [
       "       player  game_id w/l role         champ   k  d   a   cs  cs/min    dmg  \\\n",
       "0  asianhenry        1   w  adc        Ezreal   9  6  14  213    5.59  33340   \n",
       "1  asianhenry        2   w  adc        Ezreal   6  2   5  189    6.78  14444   \n",
       "2  asianhenry        3   l  adc  Miss Fortune   9  5   6  257    7.15  33830   \n",
       "3  asianhenry        4   l  adc  Miss Fortune   1  6   5  197    7.19  12416   \n",
       "4  asianhenry        5   l  adc  Miss Fortune   1  6   8  206    6.19  19040   \n",
       "5  asianhenry        6   w  adc  Miss Fortune  13  2   5  219    6.62  13260   \n",
       "\n",
       "   dmg_share first_blood  \n",
       "0      28.09           n  \n",
       "1      19.97           n  \n",
       "2      30.10           n  \n",
       "3      18.11           n  \n",
       "4      16.65           n  \n",
       "5      11.82           n  "
      ]
     },
     "execution_count": 78,
     "metadata": {},
     "output_type": "execute_result"
    }
   ],
   "source": [
    "no_supp = player_search[player_search['role']!='supp']\n",
    "no_supp"
   ]
  },
  {
   "cell_type": "code",
   "execution_count": 85,
   "metadata": {},
   "outputs": [],
   "source": [
    "avg_cs = round(statistics.mean(no_supp['cs/min']),2)\n",
    "avg_dmg = round(statistics.mean(no_supp['dmg_share']),2)\n",
    "#print(avg_cs)\n",
    "#print(avg_dmg)"
   ]
  },
  {
   "cell_type": "code",
   "execution_count": 82,
   "metadata": {},
   "outputs": [],
   "source": [
    "player_dict = {}"
   ]
  },
  {
   "cell_type": "code",
   "execution_count": 83,
   "metadata": {},
   "outputs": [],
   "source": [
    "player_dict['id'] = player_search['player'][0]\n",
    "player_dict['games_played'] = len(player_search)\n",
    "player_dict['wins'] = wins\n",
    "player_dict['losses'] = losses\n",
    "player_dict['win_pct'] = win_pct\n",
    "player_dict['kda'] = total_kda\n",
    "player_dict['avg_cs'] = avg_cs\n",
    "player_dict['avg_dmg'] = avg_dmg\n",
    "player_dict['first_bloods'] = first_bloods\n",
    "player_dict['champs'] = champs\n",
    "player_dict['roles'] = roles"
   ]
  },
  {
   "cell_type": "code",
   "execution_count": 84,
   "metadata": {},
   "outputs": [
    {
     "data": {
      "text/plain": [
       "{'id': 'asianhenry',\n",
       " 'games_played': 6,\n",
       " 'wins': 3,\n",
       " 'losses': 3,\n",
       " 'win_pct': 50.0,\n",
       " 'kda': 3.04,\n",
       " 'avg_cs': 6.59,\n",
       " 'avg_dmg': 20.79,\n",
       " 'first_bloods': 0,\n",
       " 'champs': ['Ezreal',\n",
       "  'Ezreal',\n",
       "  'Miss Fortune',\n",
       "  'Miss Fortune',\n",
       "  'Miss Fortune',\n",
       "  'Miss Fortune'],\n",
       " 'roles': ['adc', 'adc', 'adc', 'adc', 'adc', 'adc']}"
      ]
     },
     "execution_count": 84,
     "metadata": {},
     "output_type": "execute_result"
    }
   ],
   "source": [
    "player_dict"
   ]
  },
  {
   "cell_type": "code",
   "execution_count": null,
   "metadata": {},
   "outputs": [],
   "source": []
  }
 ],
 "metadata": {
  "kernelspec": {
   "display_name": "Python 3",
   "language": "python",
   "name": "python3"
  },
  "language_info": {
   "codemirror_mode": {
    "name": "ipython",
    "version": 3
   },
   "file_extension": ".py",
   "mimetype": "text/x-python",
   "name": "python",
   "nbconvert_exporter": "python",
   "pygments_lexer": "ipython3",
   "version": "3.7.4"
  }
 },
 "nbformat": 4,
 "nbformat_minor": 2
}
