{
 "cells": [
  {
   "cell_type": "code",
   "execution_count": 1,
   "metadata": {},
   "outputs": [],
   "source": [
    "import pandas as pd\n",
    "import numpy as np\n",
    "import statistics"
   ]
  },
  {
   "cell_type": "code",
   "execution_count": 3,
   "metadata": {},
   "outputs": [],
   "source": [
    "player_data = pd.read_csv('data/inhouse.csv')"
   ]
  },
  {
   "cell_type": "code",
   "execution_count": 4,
   "metadata": {},
   "outputs": [
    {
     "data": {
      "text/plain": [
       "['asianhenry',\n",
       " 'Knacked',\n",
       " 'TheRealShimmy',\n",
       " 'GF WONT SUPPORT',\n",
       " 'Xe0',\n",
       " 'Ass2Malph',\n",
       " 'GobStopper',\n",
       " 'Jjjajangmyeon',\n",
       " 'Bevo18',\n",
       " 'Taxmo',\n",
       " 'Ohoii',\n",
       " 'itssyumm',\n",
       " 'WhoopScoopPoop',\n",
       " 'Abusive Teemo',\n",
       " 'CJ Effort',\n",
       " 'PurelyLucky',\n",
       " 'TisPerfect',\n",
       " 'KimcheeeJeon']"
      ]
     },
     "execution_count": 4,
     "metadata": {},
     "output_type": "execute_result"
    }
   ],
   "source": [
    "unique_players = list(player_data['player'].dropna().unique())\n",
    "unique_players"
   ]
  },
  {
   "cell_type": "code",
   "execution_count": null,
   "metadata": {},
   "outputs": [],
   "source": []
  }
 ],
 "metadata": {
  "kernelspec": {
   "display_name": "Python 3",
   "language": "python",
   "name": "python3"
  },
  "language_info": {
   "codemirror_mode": {
    "name": "ipython",
    "version": 3
   },
   "file_extension": ".py",
   "mimetype": "text/x-python",
   "name": "python",
   "nbconvert_exporter": "python",
   "pygments_lexer": "ipython3",
   "version": "3.7.4"
  }
 },
 "nbformat": 4,
 "nbformat_minor": 2
}
